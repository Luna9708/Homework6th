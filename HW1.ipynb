{
 "cells": [
  {
   "cell_type": "markdown",
   "metadata": {},
   "source": [
    "## 输出所有由四个数字 1、2、3、5 组成的数字组\n"
   ]
  },
  {
   "cell_type": "code",
   "execution_count": 2,
   "metadata": {},
   "outputs": [
    {
     "name": "stdout",
     "output_type": "stream",
     "text": [
      "1 2 3 5\n",
      "1 2 5 3\n",
      "1 3 2 5\n",
      "1 3 5 2\n",
      "1 5 2 3\n",
      "1 5 3 2\n",
      "2 1 3 5\n",
      "2 1 5 3\n",
      "2 3 1 5\n",
      "2 3 5 1\n",
      "2 5 1 3\n",
      "2 5 3 1\n",
      "3 1 2 5\n",
      "3 1 5 2\n",
      "3 2 1 5\n",
      "3 2 5 1\n",
      "3 5 1 2\n",
      "3 5 2 1\n",
      "5 1 2 3\n",
      "5 1 3 2\n",
      "5 2 1 3\n",
      "5 2 3 1\n",
      "5 3 1 2\n",
      "5 3 2 1\n"
     ]
    }
   ],
   "source": [
    "L=[1,2,3,5]\n",
    "for i in L:\n",
    "    for j in L:\n",
    "        for k in L:\n",
    "            for m in L:\n",
    "                if( i != k ) and (i != j) and (j != k) and ( i!=m ) and ( j!=m ) and (k!= m) :\n",
    "                    print(i,j,k,m)"
   ]
  },
  {
   "cell_type": "markdown",
   "metadata": {},
   "source": [
    "## 输出斐波那契数列前20项的和\n"
   ]
  },
  {
   "cell_type": "code",
   "execution_count": 5,
   "metadata": {},
   "outputs": [
    {
     "name": "stdout",
     "output_type": "stream",
     "text": [
      "[1, 1, 2, 3, 5, 8, 13, 21, 34, 55, 89, 144, 233, 377, 610, 987, 1597, 2584, 4181, 6765]\n",
      "17710\n"
     ]
    }
   ],
   "source": [
    "def fib(n):\n",
    "    if n == 1:\n",
    "        return [1]\n",
    "    if n == 2:\n",
    "        return [1, 1]\n",
    "    fibs = [1, 1]\n",
    "    for i in range(2, n):\n",
    "        fibs.append(fibs[-1] + fibs[-2])\n",
    "    return fibs\n",
    "print(fib(20))\n",
    "print(sum(fib(20)))"
   ]
  },
  {
   "cell_type": "markdown",
   "metadata": {},
   "source": [
    "## 输出200以内，各个数位之和为偶数的素数（如101、103）\n"
   ]
  },
  {
   "cell_type": "code",
   "execution_count": 4,
   "metadata": {},
   "outputs": [
    {
     "name": "stdout",
     "output_type": "stream",
     "text": [
      "2   \n",
      "11  \n",
      "13  \n",
      "17  \n",
      "19  \n",
      "31  \n",
      "37  \n",
      "53  \n",
      "59  \n",
      "71  \n",
      "73  \n",
      "79  \n",
      "97  \n",
      "101 \n",
      "103 \n",
      "107 \n",
      "109 \n",
      "127 \n",
      "149 \n",
      "163 \n",
      "167 \n",
      "181 \n"
     ]
    }
   ],
   "source": [
    "leap = 1\n",
    "d=0\n",
    "yn=0\n",
    "from math import sqrt\n",
    "from sys import stdout\n",
    "for m in range(2,201):\n",
    "    k = int(sqrt(m + 1))\n",
    "    for i in range(2,k + 1):\n",
    "        if m % i == 0:\n",
    "            leap = 0\n",
    "            break\n",
    "    if leap == 1:\n",
    "        \n",
    "        if sum(map(int, str(m))) % 2 ==0:\n",
    "            print( '%-4d' % m)\n",
    "\n",
    "    leap = 1\n"
   ]
  },
  {
   "cell_type": "code",
   "execution_count": null,
   "metadata": {
    "collapsed": true
   },
   "outputs": [],
   "source": []
  },
  {
   "cell_type": "code",
   "execution_count": null,
   "metadata": {
    "collapsed": true
   },
   "outputs": [],
   "source": []
  },
  {
   "cell_type": "code",
   "execution_count": 1,
   "metadata": {},
   "outputs": [
    {
     "name": "stdout",
     "output_type": "stream",
     "text": [
      "2   \n",
      "11  \n",
      "13  \n",
      "17  \n",
      "19  \n",
      "31  \n",
      "37  \n",
      "53  \n",
      "59  \n",
      "71  \n",
      "73  \n",
      "79  \n",
      "97  \n",
      "101 \n",
      "103 \n",
      "107 \n",
      "109 \n",
      "127 \n",
      "149 \n",
      "163 \n",
      "167 \n",
      "181 \n"
     ]
    }
   ],
   "source": [
    "leap = 1\n",
    "yn=0\n",
    "from math import sqrt\n",
    "from sys import stdout\n",
    "for m in range(2,201):\n",
    "    k = int(sqrt(m + 1))\n",
    "    for i in range(2,k + 1):\n",
    "        if m % i == 0:\n",
    "            leap = 0\n",
    "            break\n",
    "    d = 0\n",
    "    if leap == 1:\n",
    "        yn=m\n",
    "        while yn>0:\n",
    "            d+= (yn%10)\n",
    "            yn=int(yn/10)\n",
    "        if d%2 ==0:\n",
    "            print( '%-4d' % m)\n",
    "\n",
    "    leap = 1"
   ]
  },
  {
   "cell_type": "code",
   "execution_count": null,
   "metadata": {
    "collapsed": true
   },
   "outputs": [],
   "source": []
  }
 ],
 "metadata": {
  "kernelspec": {
   "display_name": "Python 3",
   "language": "python",
   "name": "python3"
  },
  "language_info": {
   "codemirror_mode": {
    "name": "ipython",
    "version": 3
   },
   "file_extension": ".py",
   "mimetype": "text/x-python",
   "name": "python",
   "nbconvert_exporter": "python",
   "pygments_lexer": "ipython3",
   "version": "3.6.5"
  }
 },
 "nbformat": 4,
 "nbformat_minor": 2
}
